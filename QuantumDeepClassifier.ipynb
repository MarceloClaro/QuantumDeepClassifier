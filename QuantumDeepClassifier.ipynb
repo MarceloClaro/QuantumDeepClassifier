{
  "nbformat": 4,
  "nbformat_minor": 0,
  "metadata": {
    "colab": {
      "private_outputs": true,
      "provenance": [],
      "gpuType": "T4",
      "authorship_tag": "ABX9TyPFpfdQvzB1uapjO4kXXv8K",
      "include_colab_link": true
    },
    "kernelspec": {
      "name": "python3",
      "display_name": "Python 3"
    },
    "language_info": {
      "name": "python"
    },
    "accelerator": "GPU"
  },
  "cells": [
    {
      "cell_type": "markdown",
      "metadata": {
        "id": "view-in-github",
        "colab_type": "text"
      },
      "source": [
        "<a href=\"https://colab.research.google.com/github/MarceloClaro/QuantumDeepClassifier/blob/main/QuantumDeepClassifier.ipynb\" target=\"_parent\"><img src=\"https://colab.research.google.com/assets/colab-badge.svg\" alt=\"Open In Colab\"/></a>"
      ]
    },
    {
      "cell_type": "code",
      "source": [
        "!pip install tensorflow==2.15.0\n",
        "!pip install tensorflow-quantum==0.7.3\n",
        "!pip install cirq\n",
        "!pip install sympy\n",
        "!pip install numpy\n",
        "!pip install cirq[vis]\n"
      ],
      "metadata": {
        "id": "qrLbmnwxViPY"
      },
      "execution_count": null,
      "outputs": []
    },
    {
      "cell_type": "code",
      "source": [
        "# Instalar a fonte Arial\n",
        "!apt-get install -y fonts-arial\n",
        "# Baixar a fonte Arial\n",
        "!wget -q https://befonts.com/download/arial-font -O Arial.ttf\n",
        "\n",
        "# Criar o diretório de fontes, caso não exista\n",
        "!mkdir -p ~/.fonts\n",
        "\n",
        "# Mover a fonte para o diretório de fontes\n",
        "!mv Arial.ttf ~/.fonts/\n",
        "\n",
        "# Atualizar o cache de fontes\n",
        "!fc-cache -f -v\n",
        "\n",
        "# Atualizar o cache de fontes do Matplotlib\n",
        "import matplotlib.font_manager as fm\n",
        "\n",
        "\n",
        "# Definir a fonte padrão como Arial\n",
        "import matplotlib.pyplot as plt\n",
        "plt.rcParams['font.family'] = 'Arial'\n",
        "\n",
        "import tensorflow as tf\n",
        "import tensorflow_quantum as tfq\n",
        "import cirq\n",
        "import sympy\n",
        "import numpy as np\n",
        "from cirq.contrib.svg import SVGCircuit\n",
        "# Definir a fonte padrão como DejaVu Sans\n",
        "import matplotlib.pyplot as plt\n",
        "plt.rcParams['font.family'] = 'DejaVu Sans'\n",
        "\n"
      ],
      "metadata": {
        "id": "1bUHkbvaVrM_"
      },
      "execution_count": null,
      "outputs": []
    },
    {
      "cell_type": "code",
      "source": [
        "# Defina os qubits\n",
        "qubits = [cirq.GridQubit(0, i) for i in range(2)]\n",
        "\n",
        "# Construa o circuito quântico\n",
        "circuit = cirq.Circuit()\n",
        "\n",
        "# Adicione portas quânticas ao circuito conforme necessário\n",
        "# Exemplo: Porta Hadamard no primeiro qubit\n",
        "circuit.append(cirq.H(qubits[0]))\n",
        "\n",
        "# Visualize o circuito\n",
        "SVGCircuit(circuit)\n"
      ],
      "metadata": {
        "id": "ZCdBRBh3UckC"
      },
      "execution_count": null,
      "outputs": []
    },
    {
      "cell_type": "code",
      "execution_count": null,
      "metadata": {
        "id": "g9ORPjiaUZHf"
      },
      "outputs": [],
      "source": [
        "# Dados de entrada: 100 amostras de 2 características\n",
        "train_data = np.random.rand(100, 2)\n",
        "test_data = np.random.rand(20, 2)\n",
        "\n",
        "# Rótulos binários\n",
        "train_labels = np.random.randint(2, size=100)\n",
        "test_labels = np.random.randint(2, size=20)\n"
      ]
    },
    {
      "cell_type": "code",
      "source": [
        "def encode_data(data):\n",
        "    circuits = []\n",
        "    for sample in data:\n",
        "        circuit = cirq.Circuit()\n",
        "        for i, value in enumerate(sample):\n",
        "            # Codifique o valor no ângulo de rotação do qubit\n",
        "            circuit.append(cirq.rx(np.pi * value)(qubits[i]))\n",
        "        circuits.append(circuit)\n",
        "    return circuits\n",
        "\n",
        "train_circuits = encode_data(train_data)\n",
        "test_circuits = encode_data(test_data)\n"
      ],
      "metadata": {
        "id": "BjcE8qqvWLNK"
      },
      "execution_count": null,
      "outputs": []
    },
    {
      "cell_type": "code",
      "source": [
        "train_circuit_tensors = tfq.convert_to_tensor(train_circuits)\n",
        "test_circuit_tensors = tfq.convert_to_tensor(test_circuits)\n"
      ],
      "metadata": {
        "id": "hs_eLn8XYqyO"
      },
      "execution_count": null,
      "outputs": []
    },
    {
      "cell_type": "code",
      "source": [
        "from tensorflow.keras import layers, initializers\n",
        "\n",
        "layer = layers.Dense(\n",
        "    units=64,\n",
        "    kernel_initializer=initializers.RandomUniform(minval=-0.05, maxval=0.05, seed=42),\n",
        "    bias_initializer=initializers.RandomUniform(minval=-0.05, maxval=0.05, seed=43)\n",
        ")\n"
      ],
      "metadata": {
        "id": "IvOLHhHxY975"
      },
      "execution_count": null,
      "outputs": []
    },
    {
      "cell_type": "code",
      "source": [
        "# Defina os parâmetros simbólicos\n",
        "theta = sympy.symbols('theta0:2')\n",
        "\n",
        "# Adicione portas parametrizadas ao circuito\n",
        "for i in range(2):\n",
        "    circuit.append(cirq.rx(theta[i])(qubits[i]))\n",
        "\n",
        "# Defina a camada PQC\n",
        "pqc = tfq.layers.PQC(circuit, cirq.Z(qubits[0]))\n",
        "\n",
        "# Construa o modelo\n",
        "model = tf.keras.Sequential([\n",
        "    tf.keras.layers.Input(shape=(), dtype=tf.string),\n",
        "    pqc,\n",
        "    tf.keras.layers.Dense(1, activation='sigmoid')\n",
        "])\n"
      ],
      "metadata": {
        "id": "np8G5NZcYw3V"
      },
      "execution_count": null,
      "outputs": []
    },
    {
      "cell_type": "code",
      "source": [
        "model.compile(optimizer='adam', loss='binary_crossentropy', metrics=['accuracy'])\n",
        "\n",
        "history = model.fit(train_circuit_tensors, train_labels, epochs=10, validation_data=(test_circuit_tensors, test_labels))\n"
      ],
      "metadata": {
        "id": "3rRUytQ1ZT6t"
      },
      "execution_count": null,
      "outputs": []
    },
    {
      "cell_type": "code",
      "source": [
        "test_loss, test_accuracy = model.evaluate(test_circuit_tensors, test_labels)\n",
        "print(f'Acurácia no teste: {test_accuracy:.4f}')\n"
      ],
      "metadata": {
        "id": "2p86QHPnZcer"
      },
      "execution_count": null,
      "outputs": []
    },
    {
      "cell_type": "code",
      "source": [
        "import zipfile\n",
        "import os\n",
        "import tensorflow as tf\n",
        "import tensorflow_quantum as tfq\n",
        "import cirq\n",
        "import sympy\n",
        "import numpy as np\n",
        "import matplotlib.pyplot as plt\n",
        "from PIL import Image\n"
      ],
      "metadata": {
        "id": "-LYNWPfkayB0"
      },
      "execution_count": null,
      "outputs": []
    },
    {
      "cell_type": "code",
      "source": [
        "zip_path = '/content/melanomas.zip'\n",
        "extracted_dir = '/content/melanomas'\n",
        "\n",
        "# Extração do arquivo ZIP\n",
        "with zipfile.ZipFile(zip_path, 'r') as zip_ref:\n",
        "    zip_ref.extractall(extracted_dir)\n",
        "\n",
        "# Listar os arquivos extraídos\n",
        "extracted_files = os.listdir(extracted_dir)\n",
        "print(\"Arquivos extraídos:\", extracted_files)\n"
      ],
      "metadata": {
        "id": "YH60-KzTblKj"
      },
      "execution_count": null,
      "outputs": []
    },
    {
      "cell_type": "code",
      "source": [
        "from tensorflow.keras.preprocessing.image import ImageDataGenerator\n",
        "\n",
        "# Gerador de dados de imagem\n",
        "datagen = ImageDataGenerator(\n",
        "    rescale=1.0 / 255.0,\n",
        "    validation_split=0.2  # Divisão para validação\n",
        ")\n",
        "\n",
        "# Preparar os dados de treinamento\n",
        "train_data = datagen.flow_from_directory(\n",
        "    extracted_dir,\n",
        "    target_size=(128, 128),\n",
        "    batch_size=32,\n",
        "    class_mode='binary',\n",
        "    subset='training'\n",
        ")\n",
        "\n",
        "# Preparar os dados de validação\n",
        "validation_data = datagen.flow_from_directory(\n",
        "    extracted_dir,\n",
        "    target_size=(128, 128),\n",
        "    batch_size=32,\n",
        "    class_mode='binary',\n",
        "    subset='validation'\n",
        ")\n"
      ],
      "metadata": {
        "id": "svkbOj7ncXp3"
      },
      "execution_count": null,
      "outputs": []
    },
    {
      "cell_type": "code",
      "source": [
        "def encode_data(data):\n",
        "    circuits = []\n",
        "    for sample in data:\n",
        "        # Achatar a imagem e normalizar\n",
        "        flattened_sample = sample.flatten()\n",
        "        normalized_sample = flattened_sample / np.linalg.norm(flattened_sample)\n",
        "\n",
        "        # Criar qubits\n",
        "        qubits = cirq.GridQubit.rect(1, len(normalized_sample))\n",
        "        circuit = cirq.Circuit()\n",
        "\n",
        "        # Codificar os valores nos qubits\n",
        "        for i, value in enumerate(normalized_sample):\n",
        "            circuit.append(cirq.rx(np.pi * value)(qubits[i]))\n",
        "\n",
        "        circuits.append(circuit)\n",
        "    return circuits\n",
        "\n",
        "# Codificar os dados de treinamento e validação\n",
        "train_circuits = encode_data(train_data[0][0])  # Primeira iteração do gerador\n",
        "validation_circuits = encode_data(validation_data[0][0])\n"
      ],
      "metadata": {
        "id": "HBGhIfrtcewc"
      },
      "execution_count": null,
      "outputs": []
    },
    {
      "cell_type": "code",
      "source": [
        "# Criação de um circuito parametrizado\n",
        "qubits = cirq.GridQubit.rect(1, 128)\n",
        "circuit = cirq.Circuit()\n",
        "theta = sympy.symbols('theta0:{}'.format(len(qubits)))\n",
        "for i, qubit in enumerate(qubits):\n",
        "    circuit.append(cirq.rx(theta[i])(qubit))\n",
        "\n",
        "# Modelo híbrido\n",
        "model = tf.keras.Sequential([\n",
        "    tf.keras.layers.Input(shape=(), dtype=tf.string),\n",
        "    tfq.layers.PQC(circuit, cirq.Z(qubits[0])),\n",
        "    tf.keras.layers.Dense(1, activation='sigmoid')\n",
        "])\n",
        "\n",
        "# Compilar o modelo\n",
        "model.compile(optimizer='adam', loss='binary_crossentropy', metrics=['accuracy'])\n"
      ],
      "metadata": {
        "id": "e-xxDwLccnKf"
      },
      "execution_count": null,
      "outputs": []
    },
    {
      "cell_type": "code",
      "source": [
        "test_loss, test_accuracy = model.evaluate(validation_circuit_tensors, validation_data[0][1])\n",
        "print(f\"Perda no teste: {test_loss:.4f}, Acurácia no teste: {test_accuracy:.4f}\")\n"
      ],
      "metadata": {
        "id": "1aIwpRblc2z5"
      },
      "execution_count": null,
      "outputs": []
    },
    {
      "cell_type": "code",
      "source": [
        "plt.plot(history.history['accuracy'], label='Acurácia de Treinamento')\n",
        "plt.plot(history.history['val_accuracy'], label='Acurácia de Validação')\n",
        "plt.legend()\n",
        "plt.show()\n"
      ],
      "metadata": {
        "id": "aTeDZAUTc6DP"
      },
      "execution_count": null,
      "outputs": []
    },
    {
      "cell_type": "code",
      "source": [
        "from tensorflow.keras.preprocessing import image\n",
        "import numpy as np\n",
        "\n",
        "# Caminho para a nova imagem\n",
        "image_path = '/content/melanoma_10599.jpg'\n",
        "\n",
        "# Carregar a imagem com o tamanho adequado\n",
        "img = image.load_img(image_path, target_size=(128, 128))\n",
        "\n",
        "# Converter a imagem para um array numpy\n",
        "img_array = image.img_to_array(img)\n",
        "\n",
        "# Normalizar os valores dos pixels para o intervalo [0, 1]\n",
        "img_array = img_array / 255.0\n",
        "\n",
        "# Achatar a imagem para um vetor\n",
        "img_array = img_array.flatten()\n",
        "\n",
        "# Adicionar uma dimensão extra para representar o lote (batch)\n",
        "img_array = np.expand_dims(img_array, axis=0)\n"
      ],
      "metadata": {
        "id": "FxgEzMTzdoTf"
      },
      "execution_count": null,
      "outputs": []
    },
    {
      "cell_type": "code",
      "source": [
        "import cirq\n",
        "import tensorflow_quantum as tfq\n",
        "\n",
        "def encode_image_to_circuit(image_vector):\n",
        "    \"\"\"Codifica um vetor de imagem em um circuito quântico.\"\"\"\n",
        "    # Número de qubits necessários\n",
        "    num_qubits = len(image_vector)\n",
        "\n",
        "    # Criar qubits\n",
        "    qubits = cirq.GridQubit.rect(1, num_qubits)\n",
        "\n",
        "    # Inicializar o circuito\n",
        "    circuit = cirq.Circuit()\n",
        "\n",
        "    # Codificar cada pixel como uma rotação no eixo X\n",
        "    for i, pixel in enumerate(image_vector):\n",
        "        circuit.append(cirq.rx(np.pi * pixel)(qubits[i]))\n",
        "\n",
        "    return circuit\n",
        "\n",
        "# Codificar a imagem em um circuito\n",
        "image_circuit = encode_image_to_circuit(img_array[0])\n",
        "\n",
        "# Converter o circuito para um tensor compatível com o TensorFlow\n",
        "image_circuit_tensor = tfq.convert_to_tensor([image_circuit])\n"
      ],
      "metadata": {
        "id": "ajcDWBHid4s7"
      },
      "execution_count": null,
      "outputs": []
    },
    {
      "cell_type": "code",
      "source": [
        "# Realizar a predição\n",
        "prediction = model.predict(image_circuit_tensor)\n",
        "\n",
        "# Exibir a predição\n",
        "print(f'Predição bruta: {prediction[0][0]}')\n"
      ],
      "metadata": {
        "id": "mL__xMtUd_sG"
      },
      "execution_count": null,
      "outputs": []
    },
    {
      "cell_type": "code",
      "source": [
        "# Definir um limiar para classificação binária\n",
        "threshold = 0.5\n",
        "\n",
        "# Determinar a classe prevista\n",
        "predicted_class = 1 if prediction[0][0] >= threshold else 0\n",
        "\n",
        "# Mapear a classe prevista para o rótulo correspondente\n",
        "class_labels = {0: 'Normal', 1: 'Melanoma'}\n",
        "predicted_label = class_labels[predicted_class]\n",
        "\n",
        "print(f'A imagem foi classificada como: {predicted_label}')\n"
      ],
      "metadata": {
        "id": "_yTnAguoeAdG"
      },
      "execution_count": null,
      "outputs": []
    },
    {
      "cell_type": "code",
      "source": [
        "import tensorflow as tf\n",
        "import tensorflow_quantum as tfq\n",
        "import cirq\n",
        "import sympy\n",
        "import numpy as np\n",
        "import matplotlib.pyplot as plt\n",
        "from cirq.contrib.svg import SVGCircuit\n"
      ],
      "metadata": {
        "id": "yyEmgECkeEiO"
      },
      "execution_count": null,
      "outputs": []
    },
    {
      "cell_type": "code",
      "source": [
        "import zipfile\n",
        "import os\n",
        "\n",
        "# Caminho para o arquivo ZIP\n",
        "zip_path = '/content/melanomas.zip'\n",
        "\n",
        "# Diretório de extração\n",
        "extracted_dir = '/content/melanomas'\n",
        "\n",
        "# Extração do arquivo ZIP\n",
        "with zipfile.ZipFile(zip_path, 'r') as zip_ref:\n",
        "    zip_ref.extractall(extracted_dir)\n",
        "\n",
        "# Verificação dos arquivos extraídos\n",
        "extracted_files = os.listdir(extracted_dir)\n",
        "print(f'Arquivos extraídos: {extracted_files}')\n"
      ],
      "metadata": {
        "id": "jbNplX9khEVx"
      },
      "execution_count": null,
      "outputs": []
    },
    {
      "cell_type": "code",
      "source": [
        "from tensorflow.keras.preprocessing.image import ImageDataGenerator\n",
        "\n",
        "# Gerador de dados com pré-processamento\n",
        "datagen = ImageDataGenerator(\n",
        "    rescale=1./255,\n",
        "    validation_split=0.2\n",
        ")\n",
        "\n",
        "# Parâmetros\n",
        "img_height, img_width = 128, 128\n",
        "batch_size = 32\n",
        "\n",
        "# Dados de treinamento\n",
        "train_data = datagen.flow_from_directory(\n",
        "    extracted_dir,\n",
        "    target_size=(img_height, img_width),\n",
        "    batch_size=batch_size,\n",
        "    class_mode='binary',\n",
        "    subset='training'\n",
        ")\n",
        "\n",
        "# Dados de validação\n",
        "val_data = datagen.flow_from_directory(\n",
        "    extracted_dir,\n",
        "    target_size=(img_height, img_width),\n",
        "    batch_size=batch_size,\n",
        "    class_mode='binary',\n",
        "    subset='validation'\n",
        ")\n"
      ],
      "metadata": {
        "id": "65Rrjn-ohIEk"
      },
      "execution_count": null,
      "outputs": []
    },
    {
      "cell_type": "code",
      "source": [
        "def encode_image_to_circuit(image):\n",
        "    \"\"\"Codifica uma imagem em um circuito quântico.\"\"\"\n",
        "    qubits = cirq.GridQubit.rect(1, img_height * img_width)\n",
        "    circuit = cirq.Circuit()\n",
        "    for i, pixel in enumerate(image.flatten()):\n",
        "        if pixel > 0:\n",
        "            circuit.append(cirq.rx(np.pi * pixel)(qubits[i]))\n",
        "    return circuit\n"
      ],
      "metadata": {
        "id": "67OXt-0AhLc-"
      },
      "execution_count": null,
      "outputs": []
    },
    {
      "cell_type": "code",
      "source": [
        "train_circuits = [encode_image_to_circuit(img) for img, _ in train_data]\n",
        "val_circuits = [encode_image_to_circuit(img) for img, _ in val_data]\n",
        "\n",
        "train_labels = np.array([label for _, label in train_data])\n",
        "val_labels = np.array([label for _, label in val_data])\n",
        "\n",
        "train_circuit_tensors = tfq.convert_to_tensor(train_circuits)\n",
        "val_circuit_tensors = tfq.convert_to_tensor(val_circuits)\n"
      ],
      "metadata": {
        "id": "fO2es5ErhOU0"
      },
      "execution_count": null,
      "outputs": []
    },
    {
      "cell_type": "code",
      "source": [
        "# Converta os circuitos quânticos para tensores\n",
        "train_circuits = tfq.convert_to_tensor([convert_image_to_circuit(img) for img, _ in train_generator])\n",
        "validation_circuits = tfq.convert_to_tensor([convert_image_to_circuit(img) for img, _ in validation_generator])\n",
        "\n",
        "# Extraia os rótulos\n",
        "train_labels = np.array([label for _, label in train_generator])\n",
        "validation_labels = np.array([label for _, label in validation_generator])\n",
        "\n",
        "# Treine o modelo\n",
        "history = model.fit(\n",
        "    train_circuits, train_labels,\n",
        "    validation_data=(validation_circuits, validation_labels),\n",
        "    epochs=10,\n",
        "    batch_size=batch_size\n",
        ")\n"
      ],
      "metadata": {
        "id": "UhxDBNYyhRo0"
      },
      "execution_count": null,
      "outputs": []
    },
    {
      "cell_type": "code",
      "source": [
        "# Definição dos qubits\n",
        "qubits = cirq.GridQubit.rect(1, img_height * img_width)\n",
        "\n",
        "# Função para criar o modelo QCNN\n",
        "def create_qcnn_model():\n",
        "    model_circuit = cirq.Circuit()\n",
        "    # Adicione as portas quânticas conforme a arquitetura desejada\n",
        "    # ...\n",
        "\n",
        "    readout_operators = [cirq.Z(qubit) for qubit in qubits]\n",
        "\n",
        "    qcnn = tf.keras.Sequential([\n",
        "        tf.keras.layers.Input(shape=(), dtype=tf.dtypes.string),\n",
        "        tfq.layers.PQC(model_circuit, readout_operators),\n",
        "        tf.keras.layers.Dense(1, activation='sigmoid')\n",
        "    ])\n",
        "\n",
        "    return qcnn\n",
        "\n",
        "model = create_qcnn_model()\n"
      ],
      "metadata": {
        "id": "E30HEwKEhXBu"
      },
      "execution_count": null,
      "outputs": []
    },
    {
      "cell_type": "code",
      "source": [
        "model.compile(optimizer='adam', loss='binary_crossentropy', metrics=['accuracy'])\n",
        "\n",
        "history = model.fit(\n",
        "    train_circuit_tensors, train_labels,\n",
        "    validation_data=(val_circuit_tensors, val_labels),\n",
        "    epochs=10,\n",
        "    batch_size=batch_size\n",
        ")\n"
      ],
      "metadata": {
        "id": "6fSS8BRuhYEv"
      },
      "execution_count": null,
      "outputs": []
    },
    {
      "cell_type": "code",
      "source": [
        "# Avaliação\n",
        "loss, accuracy = model.evaluate(val_circuit_tensors, val_labels)\n",
        "print(f'Acurácia: {accuracy * 100:.2f}%')\n",
        "\n",
        "# Classificação de uma nova imagem\n",
        "new_image_path = '/content/melanoma_10599.jpg'\n",
        "# Carregue e pré-processe a imagem conforme os passos anteriores\n",
        "# ...\n",
        "# Codifique a imagem em um circuito quântico\n",
        "new_circuit = encode_image_to_circuit(new_image)\n",
        "new_circuit_tensor = tfq.convert_to_tensor([new_circuit])\n",
        "\n",
        "# Predição\n",
        "prediction = model.predict(new_circuit_tensor)\n",
        "print(f'Predição: {prediction[0][0]}')\n"
      ],
      "metadata": {
        "id": "iWju49I3iot0"
      },
      "execution_count": null,
      "outputs": []
    }
  ]
}